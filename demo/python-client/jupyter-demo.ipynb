{
 "cells": [
  {
   "cell_type": "markdown",
   "metadata": {},
   "source": [
    "# Jupyter Demo : Parsr API Access"
   ]
  },
  {
   "cell_type": "markdown",
   "metadata": {},
   "source": [
    "This demo provides a demo showing how one can process a document (pdf or image) using the Parsr pipeline's API interface to generate various outputs."
   ]
  },
  {
   "cell_type": "markdown",
   "metadata": {},
   "source": [
    "## Module Import"
   ]
  },
  {
   "cell_type": "code",
   "execution_count": 1,
   "metadata": {},
   "outputs": [],
   "source": [
    "import parsr_api"
   ]
  },
  {
   "cell_type": "markdown",
   "metadata": {},
   "source": [
    "## Send document for processing"
   ]
  },
  {
   "cell_type": "code",
   "execution_count": 2,
   "metadata": {},
   "outputs": [],
   "source": [
    "p = parsr_api.ParserApi('localhost:3001')"
   ]
  },
  {
   "cell_type": "code",
   "execution_count": 3,
   "metadata": {},
   "outputs": [
    {
     "data": {
      "text/plain": [
       "{'file': './sampleFile.pdf',\n",
       " 'config': './sampleConfig.json',\n",
       " 'status_code': 202,\n",
       " 'server_response': '4d9349e056e83282210aec991c655c'}"
      ]
     },
     "execution_count": 3,
     "metadata": {},
     "output_type": "execute_result"
    }
   ],
   "source": [
    "job = p.sendDocument('./sampleFile.pdf', './sampleConfig.json')\n",
    "jobId = job['server_response']\n",
    "job"
   ]
  },
  {
   "cell_type": "markdown",
   "metadata": {},
   "source": [
    "## Query the queue for status"
   ]
  },
  {
   "cell_type": "code",
   "execution_count": 4,
   "metadata": {},
   "outputs": [
    {
     "data": {
      "text/plain": [
       "{'request_id': '4d9349e056e83282210aec991c655c',\n",
       " 'server_response': '{\"id\":\"4d9349e056e83282210aec991c655c\",\"json\":\"/api/v1/json/4d9349e056e83282210aec991c655c\",\"csv\":\"/api/v1/csv/4d9349e056e83282210aec991c655c\",\"text\":\"/api/v1/text/4d9349e056e83282210aec991c655c\",\"markdown\":\"/api/v1/markdown/4d9349e056e83282210aec991c655c\"}'}"
      ]
     },
     "execution_count": 4,
     "metadata": {},
     "output_type": "execute_result"
    }
   ],
   "source": [
    "p.getStatus(jobId)"
   ]
  },
  {
   "cell_type": "markdown",
   "metadata": {},
   "source": [
    "## Get the Raw Text output"
   ]
  },
  {
   "cell_type": "code",
   "execution_count": 5,
   "metadata": {},
   "outputs": [],
   "source": [
    "txt_output = p.getText(jobId)['server_response']"
   ]
  },
  {
   "cell_type": "markdown",
   "metadata": {},
   "source": [
    "## Get the Markdown output"
   ]
  },
  {
   "cell_type": "code",
   "execution_count": 6,
   "metadata": {},
   "outputs": [],
   "source": [
    "md_output = p.getMarkdown(jobId)['server_response']"
   ]
  },
  {
   "cell_type": "markdown",
   "metadata": {},
   "source": [
    "## Get the full JSON output"
   ]
  },
  {
   "cell_type": "code",
   "execution_count": 7,
   "metadata": {},
   "outputs": [],
   "source": [
    "json_output = p.getJson(jobId)['server_response']"
   ]
  },
  {
   "cell_type": "markdown",
   "metadata": {},
   "source": [
    "## Interpret the JSON output"
   ]
  },
  {
   "cell_type": "code",
   "execution_count": 8,
   "metadata": {},
   "outputs": [],
   "source": [
    "import parsr_output_interpreter as poi\n",
    "pa = poi.ParsrOutputInterpreter(json_output)"
   ]
  },
  {
   "cell_type": "markdown",
   "metadata": {},
   "source": [
    "### Get all the text on Page 1"
   ]
  },
  {
   "cell_type": "code",
   "execution_count": 9,
   "metadata": {},
   "outputs": [
    {
     "data": {
      "text/plain": [
       "'DocumentParsing\\n\\nADocumentParsingsystem\\n\\nOfficialWebsite(workinprogress)\\n\\nhttps://axatechlab.github.io/AXA-AEL-pdfparser/\\n\\nAPI\\n\\nTostarttheAPIsever,justrun:npmrunstart:apiThedocumentationishere.\\n\\nBinarydependenciesforLinuxandMacOSX\\n\\nWeuseqpf,mupdf-tols,imagemagickandpdf2jsontodoprocespdffiles,extractfontsandconvertpdftojsonstructure.Youmustinstallthistoolsonyourmachinepriortousedocparser.pacman-Sqpdfmupdf-toolspdf2jsonimagemagickapt-getinstallqpdfpdf2jsonimagemagickOnOSX:brewinstallqpdfmupdf-toolspdf2jsonimagemagick\\n\\n#ArchLinux#Debianbasedlinuxdistro\\n\\nTesseract\\n\\nhttps://github.com/tesseract-ocr/tesseract/Onlyusedifyougiveanimagetothepipeline.\\n\\nDuckling\\n\\nFollowthisguide:https://github.com/facebook/duckling#duckling-\\n\\nDependencies(Windows)\\n\\nWerecommandusingChocolateytoinstalldependencies.Itmakesthingsmuchmoreeasiertomanage.\\n\\n1\\n\\n'"
      ]
     },
     "execution_count": 9,
     "metadata": {},
     "output_type": "execute_result"
    }
   ],
   "source": [
    "pa.getTexts(page_number=1)"
   ]
  },
  {
   "cell_type": "markdown",
   "metadata": {},
   "source": [
    "### Get tables on the first page as pandas dataframes - TODO"
   ]
  },
  {
   "cell_type": "code",
   "execution_count": 10,
   "metadata": {},
   "outputs": [],
   "source": [
    "# pa.getTables(page_number=1)"
   ]
  }
 ],
 "metadata": {
  "kernelspec": {
   "display_name": "Python 3",
   "language": "python",
   "name": "python3"
  },
  "language_info": {
   "codemirror_mode": {
    "name": "ipython",
    "version": 3
   },
   "file_extension": ".py",
   "mimetype": "text/x-python",
   "name": "python",
   "nbconvert_exporter": "python",
   "pygments_lexer": "ipython3",
   "version": "3.7.4"
  }
 },
 "nbformat": 4,
 "nbformat_minor": 2
}
