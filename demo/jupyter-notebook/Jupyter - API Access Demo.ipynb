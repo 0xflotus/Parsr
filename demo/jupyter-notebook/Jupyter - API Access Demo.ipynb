{
 "cells": [
  {
   "cell_type": "markdown",
   "metadata": {},
   "source": [
    "# Jupyter Demo : Parsr API Access"
   ]
  },
  {
   "cell_type": "markdown",
   "metadata": {},
   "source": [
    "This demo provides a demo showing how one can process a document (pdf or image) using the Parsr pipeline's API interface to generate various outputs."
   ]
  },
  {
   "cell_type": "markdown",
   "metadata": {},
   "source": [
    "## Module Import"
   ]
  },
  {
   "cell_type": "code",
   "execution_count": 1,
   "metadata": {},
   "outputs": [],
   "source": [
    "import parsr_api"
   ]
  },
  {
   "cell_type": "markdown",
   "metadata": {},
   "source": [
    "## Send document for processing"
   ]
  },
  {
   "cell_type": "code",
   "execution_count": 2,
   "metadata": {},
   "outputs": [],
   "source": [
    "p = parsr_api.ParserApi('localhost:3001')"
   ]
  },
  {
   "cell_type": "code",
   "execution_count": 3,
   "metadata": {},
   "outputs": [
    {
     "data": {
      "text/plain": [
       "{'file': './sampleFile.pdf',\n",
       " 'config': './sampleConfig.json',\n",
       " 'status_code': 202,\n",
       " 'server_response': '2b95967f2b1120ca597343a0f18cdc'}"
      ]
     },
     "execution_count": 3,
     "metadata": {},
     "output_type": "execute_result"
    }
   ],
   "source": [
    "job = p.send_document('./sampleFile.pdf', './sampleConfig.json')\n",
    "jobId = job['server_response']\n",
    "job"
   ]
  },
  {
   "cell_type": "markdown",
   "metadata": {},
   "source": [
    "## Query the queue for status"
   ]
  },
  {
   "cell_type": "code",
   "execution_count": 4,
   "metadata": {},
   "outputs": [
    {
     "data": {
      "text/plain": [
       "{'request_id': '2b95967f2b1120ca597343a0f18cdc',\n",
       " 'server_response': '{\"id\":\"2b95967f2b1120ca597343a0f18cdc\",\"json\":\"/api/v1/json/2b95967f2b1120ca597343a0f18cdc\",\"csv\":\"/api/v1/csv/2b95967f2b1120ca597343a0f18cdc\",\"text\":\"/api/v1/text/2b95967f2b1120ca597343a0f18cdc\",\"markdown\":\"/api/v1/markdown/2b95967f2b1120ca597343a0f18cdc\"}'}"
      ]
     },
     "execution_count": 4,
     "metadata": {},
     "output_type": "execute_result"
    }
   ],
   "source": [
    "p.get_status(jobId)"
   ]
  },
  {
   "cell_type": "markdown",
   "metadata": {},
   "source": [
    "## Get the Raw Text output"
   ]
  },
  {
   "cell_type": "code",
   "execution_count": 5,
   "metadata": {},
   "outputs": [],
   "source": [
    "txt_output = p.get_text(jobId)['server_response']"
   ]
  },
  {
   "cell_type": "markdown",
   "metadata": {},
   "source": [
    "## Get the Markdown output"
   ]
  },
  {
   "cell_type": "code",
   "execution_count": 6,
   "metadata": {},
   "outputs": [],
   "source": [
    "md_output = p.get_markdown(jobId)['server_response']"
   ]
  },
  {
   "cell_type": "markdown",
   "metadata": {},
   "source": [
    "## Get the full JSON output"
   ]
  },
  {
   "cell_type": "code",
   "execution_count": 7,
   "metadata": {},
   "outputs": [],
   "source": [
    "json_output = p.get_json(jobId)['server_response']"
   ]
  },
  {
   "cell_type": "markdown",
   "metadata": {},
   "source": [
    "## Interpret the JSON output"
   ]
  },
  {
   "cell_type": "code",
   "execution_count": 8,
   "metadata": {},
   "outputs": [],
   "source": [
    "import parsr_output_interpreter as p\n",
    "pa = p.ParsrOutputInterpreter(json_output)"
   ]
  },
  {
   "cell_type": "markdown",
   "metadata": {},
   "source": [
    "### Get all the text on Page 1"
   ]
  },
  {
   "cell_type": "code",
   "execution_count": 9,
   "metadata": {},
   "outputs": [
    {
     "data": {
      "text/plain": [
       "'Document Parsing\\n\\nA Document Parsing system\\n\\nOfficial Website (work in progress)\\n\\nhttps://axatechlab.github.io/AXA-AEL-pdfparser/\\n\\nAPI\\n\\nTo start the API server, just run:\\n\\nnpm run start:api\\n\\nThe documentation is <a href=\"docs/api.html\">here.</a>\\n\\nBinary dependencies for Linux and Mac OS X\\n\\nWe use qpdf, mupdf-tools, imagemagick and pdf2json to do process pdf files,extract fonts and convert pdf to json structure. your machine prior to use docparser.\\n\\nYou must install this tools on\\n\\npacman -S qpdf mupdf-tools pdf2json imagemagickapt-get install \\n\\nOn OS X:\\n\\nqpdf pdf2json imagemagick\\n\\n# # \\n\\nbrew install \\n\\nTesseract\\n\\nqpdf mupdf-tools pdf2json \\n\\n<a href=\"https://github.com/tesseract-ocr/tesseract/\">https://github.com/tesseract-ocr/tesseract/</a>\\n\\nimagemagick\\n\\nOnly used if you give an image to the pipeline.\\n\\nDuckling\\n\\nArch LinuxDebian based \\n\\nFollow this guide: <a href=\"https://github.com/facebook/duckling#duckling-\">https://github.com/facebook/duckling#duckling-</a>\\n\\nDependencies (Windows)\\n\\nlinux \\n\\nWe recommand using Chocolatey to install dependencies. It makes things muchmore easier to manage.\\n\\n1\\n\\ndistro\\n\\n'"
      ]
     },
     "execution_count": 9,
     "metadata": {},
     "output_type": "execute_result"
    }
   ],
   "source": [
    "pa.get_texts(page_number=1)"
   ]
  }
 ],
 "metadata": {
  "kernelspec": {
   "display_name": "Python 3",
   "language": "python",
   "name": "python3"
  },
  "language_info": {
   "codemirror_mode": {
    "name": "ipython",
    "version": 3
   },
   "file_extension": ".py",
   "mimetype": "text/x-python",
   "name": "python",
   "nbconvert_exporter": "python",
   "pygments_lexer": "ipython3",
   "version": "3.7.3"
  }
 },
 "nbformat": 4,
 "nbformat_minor": 2
}
