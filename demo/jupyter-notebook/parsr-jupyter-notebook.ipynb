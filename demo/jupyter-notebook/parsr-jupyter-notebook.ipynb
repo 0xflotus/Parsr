{
 "cells": [
  {
   "cell_type": "markdown",
   "metadata": {},
   "source": [
    "![Parsr Logo](logo.png \"Parsr Logo\")"
   ]
  },
  {
   "cell_type": "markdown",
   "metadata": {},
   "source": [
    "# Parsr: Jupyter Notebook Demo"
   ]
  },
  {
   "cell_type": "markdown",
   "metadata": {},
   "source": [
    "This notebook provides a demo showing how one can process a document (pdf or image) using the Parsr pipeline's API interface to generate its various outputs."
   ]
  },
  {
   "cell_type": "markdown",
   "metadata": {},
   "source": [
    "## Module Import"
   ]
  },
  {
   "cell_type": "code",
   "execution_count": 1,
   "metadata": {},
   "outputs": [],
   "source": [
    "from parsr_client import ParserClient\n",
    "from output_renderer import RenderMarkdown, RenderJSON, RenderHTML"
   ]
  },
  {
   "cell_type": "markdown",
   "metadata": {},
   "source": [
    "## Initialize the client object"
   ]
  },
  {
   "cell_type": "code",
   "execution_count": 2,
   "metadata": {},
   "outputs": [],
   "source": [
    "parsr = ParserClient('localhost:3001')"
   ]
  },
  {
   "cell_type": "markdown",
   "metadata": {},
   "source": [
    "## Send document for processing"
   ]
  },
  {
   "cell_type": "code",
   "execution_count": 3,
   "metadata": {},
   "outputs": [
    {
     "name": "stdout",
     "output_type": "stream",
     "text": [
      "> Polling server for the job 6b7b07a630bc4101e39cbd16daa2f8...\n",
      ">> Progress percentage: 0\n",
      ">> Progress percentage: 0\n",
      ">> Progress percentage: 0\n",
      ">> Job done!\n",
      "{\n",
      "    \u001b[94m\"config\"\u001b[39;49;00m: \u001b[33m\"./sampleConfig.json\"\u001b[39;49;00m,\n",
      "    \u001b[94m\"file\"\u001b[39;49;00m: \u001b[33m\"./sampleFile.pdf\"\u001b[39;49;00m,\n",
      "    \u001b[94m\"server_response\"\u001b[39;49;00m: \u001b[33m\"6b7b07a630bc4101e39cbd16daa2f8\"\u001b[39;49;00m,\n",
      "    \u001b[94m\"status_code\"\u001b[39;49;00m: \u001b[34m202\u001b[39;49;00m\n",
      "}\n",
      "\n"
     ]
    },
    {
     "data": {
      "text/plain": [
       "<output_renderer.RenderJSON at 0x1056fe6d0>"
      ]
     },
     "execution_count": 3,
     "metadata": {},
     "output_type": "execute_result"
    }
   ],
   "source": [
    "job = parsr.send_document(\n",
    "    file='./sampleFile.pdf',\n",
    "    config='./sampleConfig.json',\n",
    "    document_name='Sample File2',\n",
    "    wait_till_finished=True,\n",
    "    save_request_id=True,\n",
    ")\n",
    "\n",
    "RenderJSON(job)"
   ]
  },
  {
   "cell_type": "markdown",
   "metadata": {},
   "source": [
    "## Get the Markdown output"
   ]
  },
  {
   "cell_type": "code",
   "execution_count": 4,
   "metadata": {},
   "outputs": [
    {
     "data": {
      "text/markdown": [
       "# 2 Quantifying Fuel-Saving Opportunities from Specific Driving Behavior Changes\n",
       "\n",
       "## 2.1 Savings from Improving Individual Driving Profiles\n",
       "\n",
       "### 2.1.1 Drive Profile Subsample from Real-World Travel Survey\n",
       "\n",
       "The interim report (Gonder et al. 2010) included results from detailed analyses on five cycles selected from a large set of real-world global positioning system (GPS) travel data collected in 2006 as part of a study by the Texas Transportation Institute and the Texas Department of Transportation (Ojah and Pearson 2008). The cycles were selected to reflect a range of kinetic intensity (KI) values. (KI represents a ratio of characteristic acceleration to aerodynamic speed and has been shown to be a useful drive cycle classification parameter [O’Keefe et al. 2007].) To determine the maximum possible cycle improvement fuel savings, the real-world cycles were converted into equivalent “ideal” cycles using the following steps:\n",
       "\n",
       "\n",
       "\n",
       "1. Calculate the trip distance of each sample trip.\n",
       "2. Eliminate stop-and-go and idling within each trip.\n",
       "3. Set the acceleration rate to 3 mph/s.\n",
       "4. Set the cruising speed to 40 mph.\n",
       "5. Continue cruising at 40 mph until the trip distance is reached.\n",
       "\n",
       "To compare vehicle simulations over each real-world cycle and its corresponding ideal cycle, a midsize conventional vehicle model from a previous NREL study was used (Earleywine et al. 2010). The results indicated a fuel savings potential of roughly 60% for the drive profiles with either very high or very low KI and of 30%–40% for the cycles with moderate KI values.\n",
       "\n",
       "Table 2-1 takes the analysis of these five cycles from the interim report a step further by examining the impact of the optimization steps one at a time in isolation. As indicated by other simulations from the interim report (Gonder et al. 2010), acceleration rate reductions can deliver some small fuel savings, but avoiding accelerations and decelerations (accel/decel) altogether saves larger amounts of fuel. This suggests that driving style improvements should focus on reducing the number of stops in high KI cycles, and not just the rate of accelerating out of a stop.\n",
       "\n",
       "#### Table 2-1. Simulated fuel savings from isolated cycle improvements\n",
       "\n",
       "Figure 2-1 extends the analysis from eliminating stops for the five example cycles and examines the additional benefit from avoiding slow-and-go driving below various speed thresholds.\n",
       "\n",
       "3\n",
       "\n",
       "| #### Cycle Name | #### KI (1/km) | #### Distance (mi) |>|>|>| #### Percent Fuel Savings |  \n",
       "|---|---|---|---|---|---|---|  \n",
       "| #### Improved Speed | #### Decreased Accel | #### Eliminate Stops | #### Decreased Idle |  \n",
       "| 2012\\_2 | 3.30 | 1.3 | 5.9% | 9.5% | 29.2% | 17.4% |  \n",
       "| 2145\\_1 | 0.68 | 11.2 | 2.4% | 0.1% | 9.5% | 2.7% |  \n",
       "| 4234\\_1 | 0.59 | 58.7 | 8.5% | 1.3% | 8.5% | 3.3% |  \n",
       "| 2032\\_2 | 0.17 | 57.8 | 21.7% | 0.3% | 2.7% | 1.2% |  \n",
       "| 4171\\_1 | 0.07 | 173.9 | 58.1% | 1.6% | 2.1% | 0.5% |  \n",
       "\n",
       "\n"
      ],
      "text/plain": [
       "<IPython.core.display.Markdown object>"
      ]
     },
     "metadata": {},
     "output_type": "display_data"
    }
   ],
   "source": [
    "RenderMarkdown(\n",
    "    parsr.get_markdown()\n",
    ")"
   ]
  },
  {
   "cell_type": "markdown",
   "metadata": {},
   "source": [
    "## Get the Raw Text output"
   ]
  },
  {
   "cell_type": "code",
   "execution_count": 5,
   "metadata": {},
   "outputs": [
    {
     "data": {
      "text/markdown": [
       "2 Quantifying Fuel-Saving Opportunities from Specific Driving Behavior Changes\n",
       "\n",
       "2.1 Savings from Improving Individual Driving Profiles\n",
       "\n",
       "2.1.1 Drive Profile Subsample from Real-World Travel Survey\n",
       "\n",
       "The interim report (Gonder et al. 2010) included results from detailed analyses on five cycles selected from a large set of real-world global positioning system (GPS) travel data collected in 2006 as part of a study by the Texas Transportation Institute and the Texas Department of Transportation (Ojah and Pearson 2008). The cycles were selected to reflect a range of kinetic intensity (KI) values. (KI represents a ratio of characteristic acceleration to aerodynamic speed and has been shown to be a useful drive cycle classification parameter [O’Keefe et al. 2007].) To determine the maximum possible cycle improvement fuel savings, the real-world cycles were converted into equivalent “ideal” cycles using the following steps:\n",
       "\n",
       "\n",
       "\n",
       "1. Calculate the trip distance of each sample trip.\n",
       "2. Eliminate stop-and-go and idling within each trip.\n",
       "3. Set the acceleration rate to 3 mph/s.\n",
       "4. Set the cruising speed to 40 mph.\n",
       "5. Continue cruising at 40 mph until the trip distance is reached.\n",
       "\n",
       "To compare vehicle simulations over each real-world cycle and its corresponding ideal cycle, a midsize conventional vehicle model from a previous NREL study was used (Earleywine et al. 2010). The results indicated a fuel savings potential of roughly 60% for the drive profiles with either very high or very low KI and of 30%–40% for the cycles with moderate KI values.\n",
       "\n",
       "Table 2-1 takes the analysis of these five cycles from the interim report a step further by examining the impact of the optimization steps one at a time in isolation. As indicated by other simulations from the interim report (Gonder et al. 2010), acceleration rate reductions can deliver some small fuel savings, but avoiding accelerations and decelerations (accel/decel) altogether saves larger amounts of fuel. This suggests that driving style improvements should focus on reducing the number of stops in high KI cycles, and not just the rate of accelerating out of a stop.\n",
       "\n",
       "Table 2-1. Simulated fuel savings from isolated cycle improvements\n",
       "\n",
       "Figure 2-1 extends the analysis from eliminating stops for the five example cycles and examines the additional benefit from avoiding slow-and-go driving below various speed thresholds.\n",
       "\n",
       "3\n",
       "\n",
       "Cycle Name\tKI (1/km)\tDistance (mi)\tPercent Fuel Savings\t\n",
       "Improved Speed\tDecreased Accel\tEliminate Stops\tDecreased Idle\t\n",
       "2012_2\t3.30\t1.3\t5.9%\t9.5%\t29.2%\t17.4%\t\n",
       "2145_1\t0.68\t11.2\t2.4%\t0.1%\t9.5%\t2.7%\t\n",
       "4234_1\t0.59\t58.7\t8.5%\t1.3%\t8.5%\t3.3%\t\n",
       "2032_2\t0.17\t57.8\t21.7%\t0.3%\t2.7%\t1.2%\t\n",
       "4171_1\t0.07\t173.9\t58.1%\t1.6%\t2.1%\t0.5%\t\n",
       "\n",
       "\n",
       "\n",
       "\n",
       "\n",
       "\n",
       "\n",
       "\n",
       "\n",
       "\n",
       "\n",
       "\n",
       "\n",
       "\n"
      ],
      "text/plain": [
       "<IPython.core.display.Markdown object>"
      ]
     },
     "metadata": {},
     "output_type": "display_data"
    }
   ],
   "source": [
    "RenderMarkdown(\n",
    "    parsr.get_text()\n",
    ")"
   ]
  },
  {
   "cell_type": "markdown",
   "metadata": {},
   "source": [
    "## Get Pandas DataFrames from Tables"
   ]
  },
  {
   "cell_type": "markdown",
   "metadata": {},
   "source": [
    "Get the first table from the first page from the identifier *jobId*"
   ]
  },
  {
   "cell_type": "code",
   "execution_count": 6,
   "metadata": {},
   "outputs": [
    {
     "data": {
      "text/html": [
       "<div>\n",
       "<style scoped>\n",
       "    .dataframe tbody tr th:only-of-type {\n",
       "        vertical-align: middle;\n",
       "    }\n",
       "\n",
       "    .dataframe tbody tr th {\n",
       "        vertical-align: top;\n",
       "    }\n",
       "\n",
       "    .dataframe thead th {\n",
       "        text-align: right;\n",
       "    }\n",
       "</style>\n",
       "<table border=\"1\" class=\"dataframe\">\n",
       "  <thead>\n",
       "    <tr style=\"text-align: right;\">\n",
       "      <th></th>\n",
       "      <th>Cycle Name</th>\n",
       "      <th>KI (1/km)</th>\n",
       "      <th>Distance (mi)</th>\n",
       "      <th>Percent Fuel Savings</th>\n",
       "      <th>Unnamed: 4</th>\n",
       "      <th>Unnamed: 5</th>\n",
       "      <th>Unnamed: 6</th>\n",
       "    </tr>\n",
       "  </thead>\n",
       "  <tbody>\n",
       "    <tr>\n",
       "      <th>0</th>\n",
       "      <td></td>\n",
       "      <td></td>\n",
       "      <td></td>\n",
       "      <td>Improved Speed</td>\n",
       "      <td>Decreased Accel</td>\n",
       "      <td>Eliminate Stops</td>\n",
       "      <td>Decreased Idle</td>\n",
       "    </tr>\n",
       "    <tr>\n",
       "      <th>1</th>\n",
       "      <td>2012_2</td>\n",
       "      <td>3.3</td>\n",
       "      <td>1.3</td>\n",
       "      <td>5.9%</td>\n",
       "      <td>9.5%</td>\n",
       "      <td>29.2%</td>\n",
       "      <td>17.4%</td>\n",
       "    </tr>\n",
       "    <tr>\n",
       "      <th>2</th>\n",
       "      <td>2145_1</td>\n",
       "      <td>0.68</td>\n",
       "      <td>11.2</td>\n",
       "      <td>2.4%</td>\n",
       "      <td>0.1%</td>\n",
       "      <td>9.5%</td>\n",
       "      <td>2.7%</td>\n",
       "    </tr>\n",
       "    <tr>\n",
       "      <th>3</th>\n",
       "      <td>4234_1</td>\n",
       "      <td>0.59</td>\n",
       "      <td>58.7</td>\n",
       "      <td>8.5%</td>\n",
       "      <td>1.3%</td>\n",
       "      <td>8.5%</td>\n",
       "      <td>3.3%</td>\n",
       "    </tr>\n",
       "    <tr>\n",
       "      <th>4</th>\n",
       "      <td>2032_2</td>\n",
       "      <td>0.17</td>\n",
       "      <td>57.8</td>\n",
       "      <td>21.7%</td>\n",
       "      <td>0.3%</td>\n",
       "      <td>2.7%</td>\n",
       "      <td>1.2%</td>\n",
       "    </tr>\n",
       "    <tr>\n",
       "      <th>5</th>\n",
       "      <td>4171_1</td>\n",
       "      <td>0.07</td>\n",
       "      <td>173.9</td>\n",
       "      <td>58.1%</td>\n",
       "      <td>1.6%</td>\n",
       "      <td>2.1%</td>\n",
       "      <td>0.5%</td>\n",
       "    </tr>\n",
       "  </tbody>\n",
       "</table>\n",
       "</div>"
      ],
      "text/plain": [
       "  Cycle Name KI (1/km) Distance (mi) Percent Fuel Savings       Unnamed: 4  \\\n",
       "0                                          Improved Speed  Decreased Accel   \n",
       "1     2012_2       3.3           1.3                 5.9%             9.5%   \n",
       "2     2145_1      0.68          11.2                 2.4%             0.1%   \n",
       "3     4234_1      0.59          58.7                 8.5%             1.3%   \n",
       "4     2032_2      0.17          57.8                21.7%             0.3%   \n",
       "5     4171_1      0.07         173.9                58.1%             1.6%   \n",
       "\n",
       "        Unnamed: 5      Unnamed: 6  \n",
       "0  Eliminate Stops  Decreased Idle  \n",
       "1            29.2%           17.4%  \n",
       "2             9.5%            2.7%  \n",
       "3             8.5%            3.3%  \n",
       "4             2.7%            1.2%  \n",
       "5             2.1%            0.5%  "
      ]
     },
     "execution_count": 6,
     "metadata": {},
     "output_type": "execute_result"
    }
   ],
   "source": [
    "parsr.get_table(\n",
    "    page=1,\n",
    "    table=1,\n",
    ")"
   ]
  },
  {
   "cell_type": "markdown",
   "metadata": {},
   "source": [
    "## Get the full JSON output"
   ]
  },
  {
   "cell_type": "code",
   "execution_count": 7,
   "metadata": {},
   "outputs": [],
   "source": [
    "# Careful - it can be long!\n",
    "# Uncomment the following:\n",
    "\n",
    "#RenderJSON(\n",
    "#    parsr.get_json()\n",
    "#)"
   ]
  },
  {
   "cell_type": "markdown",
   "metadata": {},
   "source": [
    "## Example: Document Versioning and Diffing"
   ]
  },
  {
   "cell_type": "markdown",
   "metadata": {},
   "source": [
    "This example shows how multiple versions of a document (identified with a common `document_name`) can be sent to the client."
   ]
  },
  {
   "cell_type": "markdown",
   "metadata": {},
   "source": [
    "### Send two versions of a Document"
   ]
  },
  {
   "cell_type": "code",
   "execution_count": 8,
   "metadata": {},
   "outputs": [
    {
     "name": "stdout",
     "output_type": "stream",
     "text": [
      "> Polling server for the job 267ad51033558c5d8d5648ba024246...\n",
      ">> Progress percentage: 0\n",
      ">> Progress percentage: 0\n",
      ">> Progress percentage: 0\n",
      ">> Job done!\n",
      "{\n",
      "    \u001b[94m\"config\"\u001b[39;49;00m: \u001b[33m\"./sampleConfig.json\"\u001b[39;49;00m,\n",
      "    \u001b[94m\"file\"\u001b[39;49;00m: \u001b[33m\"./README0.pdf\"\u001b[39;49;00m,\n",
      "    \u001b[94m\"server_response\"\u001b[39;49;00m: \u001b[33m\"267ad51033558c5d8d5648ba024246\"\u001b[39;49;00m,\n",
      "    \u001b[94m\"status_code\"\u001b[39;49;00m: \u001b[34m202\u001b[39;49;00m\n",
      "}\n",
      "\n",
      "> Polling server for the job 907d906e50a3126ff290cda8d3436c...\n",
      ">> Progress percentage: 0\n",
      ">> Progress percentage: 0\n",
      ">> Progress percentage: 0\n",
      ">> Job done!\n",
      "{\n",
      "    \u001b[94m\"config\"\u001b[39;49;00m: \u001b[33m\"./sampleConfig.json\"\u001b[39;49;00m,\n",
      "    \u001b[94m\"file\"\u001b[39;49;00m: \u001b[33m\"./README1.pdf\"\u001b[39;49;00m,\n",
      "    \u001b[94m\"server_response\"\u001b[39;49;00m: \u001b[33m\"907d906e50a3126ff290cda8d3436c\"\u001b[39;49;00m,\n",
      "    \u001b[94m\"status_code\"\u001b[39;49;00m: \u001b[34m202\u001b[39;49;00m\n",
      "}\n",
      "\n"
     ]
    },
    {
     "data": {
      "text/plain": [
       "<output_renderer.RenderJSON at 0x1132bfe50>"
      ]
     },
     "execution_count": 8,
     "metadata": {},
     "output_type": "execute_result"
    }
   ],
   "source": [
    "# ------------------------- Send the first version\n",
    "job1 = parsr.send_document(\n",
    "    document_name='Readme',\n",
    "    file='./README0.pdf',\n",
    "    config='./sampleConfig.json',\n",
    "    wait_till_finished=True,\n",
    ")\n",
    "RenderJSON(job1)\n",
    "\n",
    "# -------------------------- Send the second second\n",
    "job2 = parsr.send_document(\n",
    "    document_name='Readme',\n",
    "    file='./README1.pdf',\n",
    "    config='./sampleConfig.json',\n",
    "    wait_till_finished=True,\n",
    ")\n",
    "RenderJSON(job2)"
   ]
  },
  {
   "cell_type": "markdown",
   "metadata": {},
   "source": [
    "### Get all the versions of a document using its name"
   ]
  },
  {
   "cell_type": "code",
   "execution_count": 9,
   "metadata": {},
   "outputs": [
    {
     "data": {
      "text/plain": [
       "['267ad51033558c5d8d5648ba024246', '907d906e50a3126ff290cda8d3436c']"
      ]
     },
     "execution_count": 9,
     "metadata": {},
     "output_type": "execute_result"
    }
   ],
   "source": [
    "parsr.get_versions('Readme')"
   ]
  },
  {
   "cell_type": "markdown",
   "metadata": {},
   "source": [
    "### Obtain the changes between two successive versions"
   ]
  },
  {
   "cell_type": "code",
   "execution_count": 10,
   "metadata": {},
   "outputs": [
    {
     "data": {
      "text/html": [
       "<span># Turn your documents into data!&para;<br>&para;<br>**Parsr,** is a minimal-footprint document (image, pdf) cleaning, parsing and extraction toolchain which generates readily available, organized and usable data for data scientists and developers.  &para;<br>It provides users with clean structured and label-enriched information set for ready-to-use applications ranging from data entry and document analysis au- tomation, archival, and many others.  &para;<br>Currently, Parsr can perform:&para;<br>&para;<br>1. Document Hierarchy Regeneration - Words, Lines and Paragraphs&para;<br>2. Headings Detection&para;<br>3.</span><ins style=\"background:#e6ffe6;\"> Table Detection and Reconstruction&para;<br>4. Lists Detection&para;<br>5. Text Order Detection&para;<br>6. Named Entity Recognition (Dates, Percentages, etc)&para;<br>7.</ins><span> Key-Value Pair Detection (for the extraction of speciﬁc form-based entries)&para;<br></span><del style=\"background:#ffe6e6;\">4</del><ins style=\"background:#e6ffe6;\">8</ins><span>. Page Number Detection&para;<br></span><del style=\"background:#ffe6e6;\">5</del><ins style=\"background:#e6ffe6;\">9</ins><span>. Header-Footer Detection&para;<br></span><del style=\"background:#ffe6e6;\">6</del><ins style=\"background:#e6ffe6;\">10</ins><span>. Link Detection&para;<br></span><del style=\"background:#ffe6e6;\">7</del><ins style=\"background:#e6ffe6;\">11</ins><span>. Heading Detection&para;<br></span><del style=\"background:#ffe6e6;\">8</del><ins style=\"background:#e6ffe6;\">12</ins><span>. Whitespace Removal  &para;<br>Parsr can generate the following output formats:&para;<br></span><del style=\"background:#ffe6e6;\">9</del><ins style=\"background:#e6ffe6;\">13</ins><span>. JSON&para;<br>1</span><del style=\"background:#ffe6e6;\">0</del><ins style=\"background:#e6ffe6;\">4</ins><span>. Markdown&para;<br>1</span><del style=\"background:#ffe6e6;\">1</del><ins style=\"background:#e6ffe6;\">5</ins><span>. Text&para;<br>1</span><del style=\"background:#ffe6e6;\">2</del><ins style=\"background:#e6ffe6;\">6</ins><span>. CSV (for tables), or Pandas Dataframes (see here)&para;<br>1</span><del style=\"background:#ffe6e6;\">3</del><ins style=\"background:#e6ffe6;\">7</ins><span>. PDF&para;<br>&para;<br>## Table of Contents&para;<br>&para;<br>- Turn your documents into data!&para;<br>- Table of Contents&para;<br>- Getting Started&para;<br>- Installation&para;<br>- Usage&para;<br>- Documentation&para;<br>- Contribute&para;<br>- Third Party Licenses&para;<br>- License&para;<br>&para;<br></span><ins style=\"background:#e6ffe6;\">---&para;<br>&para;<br></ins><span>## Getting Started&para;<br>&para;<br>### Installation&para;<br>&para;<br>- *The advanced installation guide is available here –*</span><del style=\"background:#ffe6e6;\">&para;<br>&para;<br>---&para;<br></del><ins style=\"background:#e6ffe6;\">  </ins><span>&para;<br>The quickest way to install and run the Parsr API is through the docker image: docker pull axarev/parsr  &para;<br>If you also wish to install the GUI for sending documents and visualising results</span><del style=\"background:#ffe6e6;\">, execute the following:  &para;<br></del><ins style=\"background:#e6ffe6;\">: </ins><span>docker pull axarev/parsr-ui-localhost  &para;<br>Note: Parsr can also be installed bare-metal (not via Docker containers), the procedure for which is documented in the installation guide.&para;<br>&para;<br>### Usage&para;<br>&para;<br>- *The advanced usage guide is available here –*  &para;<br>To run the API, issue:  &para;<br>docker run -p 3001:3001 axarev/parsr  &para;<br></span><ins style=\"background:#e6ffe6;\">which will launch it on [http://localhost:3001.](http://localhost:3001.)  &para;<br>Consult the documentation on the usage of the API.  &para;<br></ins><span>To use the **Jupyter Notebook** and the **python** interface to the Parsr API, follow here.  &para;<br>To use the GUI tool (the API needs to already be running), issue: docker run -t -p 8080:80 axarev/parsr-ui-localhost:latest Then, access it through [http://localhost:8080.](http://localhost:8080.)  &para;<br></span><ins style=\"background:#e6ffe6;\">Refer to the Conﬁguration documentation to interpret the conﬁgurable options in the GUI viewer.  &para;<br></ins><span>The API based usage and the command line usage are documented in the advanced usage guide.&para;<br>&para;<br>1. To use the **Jupyter Notebook** and the **python** interface to the Parsr API, follow here.&para;<br>2. To use the GUI tool (the API needs to already be running), issue: docker run -t -p 8080:80 axarev/parsr-ui-localhost:latest Then, access it through [http://localhost:8080.](http://localhost:8080.)  &para;<br></span><ins style=\"background:#e6ffe6;\">Refer to the Conﬁguration documentation to interpret the conﬁgurable options in the GUI viewer.  &para;<br></ins><span>The API based usage and the command line usage are documented in the advanced usage guide.&para;<br>&para;<br>## Documentation&para;<br>&para;<br>All documentation ﬁles can be found here.&para;<br>&para;<br>## Contribute&para;<br>&para;<br>Please refer to the contribution guidelines.&para;<br>&para;<br></span><ins style=\"background:#e6ffe6;\">---&para;<br>&para;<br></ins><span>## Third Party Licenses&para;<br>&para;<br>Third Party Libraries licenses for its dependencies:&para;<br>&para;<br>1. **QPDF:** Apache [http://qpdf.sourceforge.net](http://qpdf.sourceforge.net)&para;<br>2. **GraphicsMagick:** MIT [http://www.graphicsmagick.org/index.html](http://www.graphicsmagick.org/index.html)&para;<br>3. **ImageMagick:** Apache 2.0 [https://imagemagick.org/script/license.php](https://imagemagick.org/script/license.php)&para;<br>4. **Pdfminer.six:** MIT [https://github.com/pdfminer/pdfminer.six/blob/master/LICENSE](https://github.com/pdfminer/pdfminer.six/blob/master/LICENSE)&para;<br></span><del style=\"background:#ffe6e6;\">&para;<br>---&para;<br>&para;<br></del><span>5. **Tesseract:** Apache 2.0 [https://github.com/tesseract-ocr/tesseract](https://github.com/tesseract-ocr/tesseract)&para;<br>6. **Camelot:** MIT [https://github.com/camelot-dev/camelot](https://github.com/camelot-dev/camelot)&para;<br>7. **MuPDF** (Optional dependency): AGPL [https://mupdf.com/license.html](https://mupdf.com/license.html)&para;<br>8. **Pandoc** (Optional dependency): GPL [https://github.com/jgm/pandoc](https://github.com/jgm/pandoc)&para;<br>&para;<br>## License&para;<br>&para;<br>Copyright 2019 AXA Group Operations S.A.  &para;<br>Licensed under the Apache 2.0 license (see the LICENSE ﬁle).&para;<br>&para;<br></span>"
      ],
      "text/plain": [
       "<IPython.core.display.HTML object>"
      ]
     },
     "metadata": {},
     "output_type": "display_data"
    }
   ],
   "source": [
    "htmldiff = parsr.compare_versions(\n",
    "    request_ids=parsr.get_versions('Readme'),\n",
    "    pretty_html=True,\n",
    ")\n",
    "\n",
    "RenderHTML(htmldiff[0])"
   ]
  },
  {
   "cell_type": "markdown",
   "metadata": {},
   "source": [
    "## Example: Interpret the JSON output locally and get all text on Page 1"
   ]
  },
  {
   "cell_type": "code",
   "execution_count": 11,
   "metadata": {},
   "outputs": [
    {
     "name": "stdout",
     "output_type": "stream",
     "text": [
      "2 Quantifying Fuel-Saving Opportunities from Specific Driving Behavior Changes \n",
      "\n",
      "2.1 Savings from Improving Individual Driving Profiles \n",
      "\n",
      "2.1.1 Drive Profile Subsample from Real-World Travel Survey \n",
      "\n",
      "The interim report (Gonder et al. 2010) included results from detailed analyses on five cycles selected from a large set of real-world global positioning system (GPS) travel data collected in 2006 as part of a study by the Texas Transportation Institute and the Texas Department of Transportation (Ojah and Pearson 2008). The cycles were selected to reflect a range of kinetic intensity (KI) values. (KI represents a ratio of characteristic acceleration to aerodynamic speed and has been shown to be a useful drive cycle classification parameter [O’Keefe et al. 2007].) To determine the maximum possible cycle improvement fuel savings, the real-world cycles were converted into equivalent “ideal” cycles using the following steps: \n",
      "\n",
      "\n",
      "\n",
      "To compare vehicle simulations over each real-world cycle and its corresponding ideal cycle, a midsize conventional vehicle model from a previous NREL study was used (Earleywine et al. 2010). The results indicated a fuel savings potential of roughly 60% for the drive profiles with either very high or very low KI and of 30%–40% for the cycles with moderate KI values. \n",
      "\n",
      "Table 2-1 takes the analysis of these five cycles from the interim report a step further by examining the impact of the optimization steps one at a time in isolation. As indicated by other simulations from the interim report (Gonder et al. 2010), acceleration rate reductions can deliver some small fuel savings, but avoiding accelerations and decelerations (accel/decel) altogether saves larger amounts of fuel. This suggests that driving style improvements should focus on reducing the number of stops in high KI cycles, and not just the rate of accelerating out of a stop. \n",
      "\n",
      "Table 2-1. Simulated fuel savings from isolated cycle improvements \n",
      "\n",
      "Figure 2-1 extends the analysis from eliminating stops for the five example cycles and examines the additional benefit from avoiding slow-and-go driving below various speed thresholds. \n",
      "\n",
      "3 \n",
      "\n",
      "\n"
     ]
    }
   ],
   "source": [
    "from parsr_output_interpreter import ParsrOutputInterpreter\n",
    "\n",
    "parsr_interpreter = ParsrOutputInterpreter(\n",
    "    parsr.get_json()\n",
    ")\n",
    "\n",
    "t = parsr_interpreter.get_text(\n",
    "    page_number=1\n",
    ")\n",
    "print(t)"
   ]
  }
 ],
 "metadata": {
  "kernelspec": {
   "display_name": "Python 3",
   "language": "python",
   "name": "python3"
  },
  "language_info": {
   "codemirror_mode": {
    "name": "ipython",
    "version": 3
   },
   "file_extension": ".py",
   "mimetype": "text/x-python",
   "name": "python",
   "nbconvert_exporter": "python",
   "pygments_lexer": "ipython3",
   "version": "3.7.5"
  }
 },
 "nbformat": 4,
 "nbformat_minor": 4
}
